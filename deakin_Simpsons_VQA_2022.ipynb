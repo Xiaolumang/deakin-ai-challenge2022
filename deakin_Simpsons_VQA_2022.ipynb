{
  "nbformat": 4,
  "nbformat_minor": 0,
  "metadata": {
    "colab": {
      "name": "deakin_Simpsons_VQA_2022.ipynb",
      "provenance": [],
      "collapsed_sections": [],
      "authorship_tag": "ABX9TyPRvRf6RgZS3Lo36rZJi6aX",
      "include_colab_link": true
    },
    "kernelspec": {
      "name": "python3",
      "display_name": "Python 3"
    },
    "language_info": {
      "name": "python"
    }
  },
  "cells": [
    {
      "cell_type": "markdown",
      "metadata": {
        "id": "view-in-github",
        "colab_type": "text"
      },
      "source": [
        "<a href=\"https://colab.research.google.com/github/Xiaolumang/deakin-ai-challenge2022/blob/main/deakin_Simpsons_VQA_2022.ipynb\" target=\"_parent\"><img src=\"https://colab.research.google.com/assets/colab-badge.svg\" alt=\"Open In Colab\"/></a>"
      ]
    },
    {
      "cell_type": "code",
      "source": [
        "import tensorflow as tf\n",
        "from tensorflow import keras\n",
        "from tensorflow.keras import layers\n",
        "from tensorflow.python.keras.saving import hdf5_format\n",
        "import matplotlib.pyplot as plt\n",
        "import json\n",
        "import os\n",
        "import numpy as np\n",
        "from sklearn.utils import shuffle\n",
        "from tensorflow.keras.utils import plot_model\n",
        "import random\n",
        "import h5py\n",
        "from sklearn.metrics import classification_report\n",
        "import re\n",
        "import pandas as pd\n",
        "from collections import Counter\n",
        "import re\n",
        "\n",
        "##################\n",
        "# Verifications:\n",
        "#################\n",
        "print('GPU is used.' if len(tf.config.list_physical_devices('GPU')) > 0 else 'GPU is NOT used.')\n",
        "print(\"Tensorflow version: \" + tf.__version__)\n"
      ],
      "metadata": {
        "colab": {
          "base_uri": "https://localhost:8080/"
        },
        "id": "xbIpiuUxFOpm",
        "outputId": "add26b71-2bca-45d2-a5bf-9cb8c5fdaba0"
      },
      "execution_count": null,
      "outputs": [
        {
          "output_type": "stream",
          "name": "stdout",
          "text": [
            "GPU is NOT used.\n",
            "Tensorflow version: 2.8.2\n"
          ]
        }
      ]
    },
    {
      "cell_type": "code",
      "execution_count": null,
      "metadata": {
        "colab": {
          "base_uri": "https://localhost:8080/"
        },
        "id": "YnOexuGrDuU2",
        "outputId": "fbbdf25a-cbea-44da-c0f0-9af58f9f566a"
      },
      "outputs": [
        {
          "output_type": "stream",
          "name": "stdout",
          "text": [
            "Downloading data from http://206.12.93.90:8080/simpson2022_dataset/simpsons_validation.tar.gz\n",
            "74948608/74941782 [==============================] - 1s 0us/step\n",
            "74956800/74941782 [==============================] - 1s 0us/step\n"
          ]
        }
      ],
      "source": [
        "#  Validation Images\n",
        "data_url = \"http://206.12.93.90:8080/simpson2022_dataset/simpsons_validation.tar.gz\"\n",
        "zip_path = keras.utils.get_file(\"simpsons_validation.tar.gz\", data_url, extract=True)\n",
        "imgs_path_val = os.path.dirname(zip_path) + '/simpsons_validation/'"
      ]
    },
    {
      "cell_type": "code",
      "source": [
        "\n",
        "#  Validation Questions\n",
        "data_url = \"http://206.12.93.90:8080/simpson2022_dataset/questions_validation.zip\"\n",
        "zip_path = keras.utils.get_file(\"questions_validation.zip\", data_url,\n",
        "                                cache_subdir='datasets/questions_validation/', extract=True)\n",
        "q_val_file = os.path.dirname(zip_path) + '/questions_validation.json'\n"
      ],
      "metadata": {
        "colab": {
          "base_uri": "https://localhost:8080/"
        },
        "id": "reiWNPfCFQbf",
        "outputId": "823fb464-35dd-4be1-a287-85ed2b150fbe"
      },
      "execution_count": null,
      "outputs": [
        {
          "output_type": "stream",
          "name": "stdout",
          "text": [
            "Downloading data from http://206.12.93.90:8080/simpson2022_dataset/questions_validation.zip\n",
            "16384/5995 [=================================================================================] - 0s 0us/step\n"
          ]
        }
      ]
    },
    {
      "cell_type": "code",
      "source": [
        "import json"
      ],
      "metadata": {
        "id": "1uVVIRxYGNWP"
      },
      "execution_count": null,
      "outputs": []
    },
    {
      "cell_type": "code",
      "source": [
        "with open('/content/questions_validation.json') as f:\n",
        "  data = json.loads(f.read())"
      ],
      "metadata": {
        "id": "R0929t89JGxC"
      },
      "execution_count": null,
      "outputs": []
    },
    {
      "cell_type": "code",
      "source": [
        "pattern_anno = r'\"multiple_choice_answer\":\\s\"(\\w+)\",\\s\"image_id\":\\s\"(\\d+)\",\\s\".+?question_id\":\\s(\\d+)'\n",
        "with open('/content/questions_validation.json') as f:\n",
        "  content = f.read()\n",
        "  anno = re.findall(pattern_anno, content)\n",
        "  qst = json.loads(content)['questions']"
      ],
      "metadata": {
        "id": "B8nBdUT5KbEs"
      },
      "execution_count": null,
      "outputs": []
    },
    {
      "cell_type": "code",
      "source": [
        "df_anno = pd.DataFrame(anno,columns=['answer','img_id','question_id'])\n",
        "df_anno['img_id'] = df_anno['img_id'].apply(lambda x:str(x))\n",
        "df_anno['question_id'] = df_anno['question_id'].apply(lambda x:str(x))\n",
        "df_anno['id'] = df_anno['img_id']+df_anno['question_id']"
      ],
      "metadata": {
        "id": "oyhC8JR7sVUN"
      },
      "execution_count": null,
      "outputs": []
    },
    {
      "cell_type": "code",
      "source": [
        "df_qst = pd.DataFrame(qst)\n",
        "df_qst.rename(columns={'image_id':'img_id'},inplace=True)\n",
        "df_qst['img_id'] = df_qst['img_id'].apply(lambda x:str(x))\n",
        "df_qst['question_id'] = df_qst['question_id'].apply(lambda x:str(x))\n",
        "df_qst['id'] = df_qst['img_id']+df_qst['question_id']"
      ],
      "metadata": {
        "id": "Q2kg2NBCs0So"
      },
      "execution_count": null,
      "outputs": []
    },
    {
      "cell_type": "code",
      "source": [
        "df_train = pd.merge(df_anno,df_qst,on='id',how='inner')"
      ],
      "metadata": {
        "id": "l9CCjln6PtAd"
      },
      "execution_count": null,
      "outputs": []
    },
    {
      "cell_type": "code",
      "source": [
        "df_train = df_train[['img_id_x','question_id_x','question','answer']]"
      ],
      "metadata": {
        "id": "n4UnkzdESGOR"
      },
      "execution_count": null,
      "outputs": []
    },
    {
      "cell_type": "code",
      "source": [
        "df_train.rename(columns ={'img_id_x':'img_id','question_id_x':'question_id'},inplace=True)"
      ],
      "metadata": {
        "id": "sVZdZsUnR1IC"
      },
      "execution_count": null,
      "outputs": []
    },
    {
      "cell_type": "code",
      "source": [
        "df_train['img_id'] = df_train['img_id'].apply(lambda x:os.path.join(imgs_path_val,'data_val_'+x+'.png'))"
      ],
      "metadata": {
        "id": "Ug-IcrvZT2Z_"
      },
      "execution_count": null,
      "outputs": []
    },
    {
      "cell_type": "code",
      "source": [
        "df_train['answer'] = df_train['answer'].apply(lambda x:1 if x =='yes' else 0)"
      ],
      "metadata": {
        "id": "43hD7TbNnad-"
      },
      "execution_count": null,
      "outputs": []
    },
    {
      "cell_type": "code",
      "source": [
        "from collections import Counter"
      ],
      "metadata": {
        "id": "OeribTz4ctSj"
      },
      "execution_count": null,
      "outputs": []
    },
    {
      "cell_type": "code",
      "source": [
        "vocab_size = 15000\n",
        "c = Counter()\n",
        "for x in df_train['question'].str.split(' ').values:\n",
        "  c.update(x)\n"
      ],
      "metadata": {
        "id": "cjquPNTjb6XF"
      },
      "execution_count": null,
      "outputs": []
    },
    {
      "cell_type": "code",
      "source": [
        "vocab = [x[0] for x in c.most_common(vocab_size)]\n",
        "token_to_num= keras.layers.StringLookup(vocabulary=vocab)\n",
        "vocab_size = token_to_num.vocabulary_size()"
      ],
      "metadata": {
        "id": "2XaDpACRdoS-"
      },
      "execution_count": null,
      "outputs": []
    },
    {
      "cell_type": "code",
      "source": [
        "img_height,img_width=32,32\n",
        "image_size = (img_height,img_width)"
      ],
      "metadata": {
        "id": "O80bgziGkL4P"
      },
      "execution_count": null,
      "outputs": []
    },
    {
      "cell_type": "code",
      "source": [
        "def encode_single_sample(img_file, q, anno):\n",
        "  img = tf.io.read_file(img_file)\n",
        "  img = tf.image.decode_jpeg(img,channels=3)\n",
        "  img = tf.image.convert_image_dtype(img,tf.float32)\n",
        "  img = tf.image.resize(img,[img_height,img_width])\n",
        "  word_splits= tf.strings.split(q, sep=' ')\n",
        "  q = token_to_num(word_splits)\n",
        "  return (img,q),anno"
      ],
      "metadata": {
        "id": "9bN1nG9KjiQk"
      },
      "execution_count": null,
      "outputs": []
    },
    {
      "cell_type": "code",
      "source": [
        "df_train.head(2)"
      ],
      "metadata": {
        "colab": {
          "base_uri": "https://localhost:8080/",
          "height": 112
        },
        "id": "5ivLlNEcm-lc",
        "outputId": "5097ea06-42b2-4088-9113-d8e89d7e4d9c"
      },
      "execution_count": null,
      "outputs": [
        {
          "output_type": "execute_result",
          "data": {
            "text/plain": [
              "                                              img_id question_id  \\\n",
              "0  /root/.keras/datasets/simpsons_validation/data...    35540245   \n",
              "1  /root/.keras/datasets/simpsons_validation/data...    40131134   \n",
              "\n",
              "                                         question  answer  \n",
              "0               Is there a screen in the picture?       1  \n",
              "1  Is the woman wearing a white colored necklace?       0  "
            ],
            "text/html": [
              "\n",
              "  <div id=\"df-ed50a63a-2808-4478-92a6-85bc502ddbc2\">\n",
              "    <div class=\"colab-df-container\">\n",
              "      <div>\n",
              "<style scoped>\n",
              "    .dataframe tbody tr th:only-of-type {\n",
              "        vertical-align: middle;\n",
              "    }\n",
              "\n",
              "    .dataframe tbody tr th {\n",
              "        vertical-align: top;\n",
              "    }\n",
              "\n",
              "    .dataframe thead th {\n",
              "        text-align: right;\n",
              "    }\n",
              "</style>\n",
              "<table border=\"1\" class=\"dataframe\">\n",
              "  <thead>\n",
              "    <tr style=\"text-align: right;\">\n",
              "      <th></th>\n",
              "      <th>img_id</th>\n",
              "      <th>question_id</th>\n",
              "      <th>question</th>\n",
              "      <th>answer</th>\n",
              "    </tr>\n",
              "  </thead>\n",
              "  <tbody>\n",
              "    <tr>\n",
              "      <th>0</th>\n",
              "      <td>/root/.keras/datasets/simpsons_validation/data...</td>\n",
              "      <td>35540245</td>\n",
              "      <td>Is there a screen in the picture?</td>\n",
              "      <td>1</td>\n",
              "    </tr>\n",
              "    <tr>\n",
              "      <th>1</th>\n",
              "      <td>/root/.keras/datasets/simpsons_validation/data...</td>\n",
              "      <td>40131134</td>\n",
              "      <td>Is the woman wearing a white colored necklace?</td>\n",
              "      <td>0</td>\n",
              "    </tr>\n",
              "  </tbody>\n",
              "</table>\n",
              "</div>\n",
              "      <button class=\"colab-df-convert\" onclick=\"convertToInteractive('df-ed50a63a-2808-4478-92a6-85bc502ddbc2')\"\n",
              "              title=\"Convert this dataframe to an interactive table.\"\n",
              "              style=\"display:none;\">\n",
              "        \n",
              "  <svg xmlns=\"http://www.w3.org/2000/svg\" height=\"24px\"viewBox=\"0 0 24 24\"\n",
              "       width=\"24px\">\n",
              "    <path d=\"M0 0h24v24H0V0z\" fill=\"none\"/>\n",
              "    <path d=\"M18.56 5.44l.94 2.06.94-2.06 2.06-.94-2.06-.94-.94-2.06-.94 2.06-2.06.94zm-11 1L8.5 8.5l.94-2.06 2.06-.94-2.06-.94L8.5 2.5l-.94 2.06-2.06.94zm10 10l.94 2.06.94-2.06 2.06-.94-2.06-.94-.94-2.06-.94 2.06-2.06.94z\"/><path d=\"M17.41 7.96l-1.37-1.37c-.4-.4-.92-.59-1.43-.59-.52 0-1.04.2-1.43.59L10.3 9.45l-7.72 7.72c-.78.78-.78 2.05 0 2.83L4 21.41c.39.39.9.59 1.41.59.51 0 1.02-.2 1.41-.59l7.78-7.78 2.81-2.81c.8-.78.8-2.07 0-2.86zM5.41 20L4 18.59l7.72-7.72 1.47 1.35L5.41 20z\"/>\n",
              "  </svg>\n",
              "      </button>\n",
              "      \n",
              "  <style>\n",
              "    .colab-df-container {\n",
              "      display:flex;\n",
              "      flex-wrap:wrap;\n",
              "      gap: 12px;\n",
              "    }\n",
              "\n",
              "    .colab-df-convert {\n",
              "      background-color: #E8F0FE;\n",
              "      border: none;\n",
              "      border-radius: 50%;\n",
              "      cursor: pointer;\n",
              "      display: none;\n",
              "      fill: #1967D2;\n",
              "      height: 32px;\n",
              "      padding: 0 0 0 0;\n",
              "      width: 32px;\n",
              "    }\n",
              "\n",
              "    .colab-df-convert:hover {\n",
              "      background-color: #E2EBFA;\n",
              "      box-shadow: 0px 1px 2px rgba(60, 64, 67, 0.3), 0px 1px 3px 1px rgba(60, 64, 67, 0.15);\n",
              "      fill: #174EA6;\n",
              "    }\n",
              "\n",
              "    [theme=dark] .colab-df-convert {\n",
              "      background-color: #3B4455;\n",
              "      fill: #D2E3FC;\n",
              "    }\n",
              "\n",
              "    [theme=dark] .colab-df-convert:hover {\n",
              "      background-color: #434B5C;\n",
              "      box-shadow: 0px 1px 3px 1px rgba(0, 0, 0, 0.15);\n",
              "      filter: drop-shadow(0px 1px 2px rgba(0, 0, 0, 0.3));\n",
              "      fill: #FFFFFF;\n",
              "    }\n",
              "  </style>\n",
              "\n",
              "      <script>\n",
              "        const buttonEl =\n",
              "          document.querySelector('#df-ed50a63a-2808-4478-92a6-85bc502ddbc2 button.colab-df-convert');\n",
              "        buttonEl.style.display =\n",
              "          google.colab.kernel.accessAllowed ? 'block' : 'none';\n",
              "\n",
              "        async function convertToInteractive(key) {\n",
              "          const element = document.querySelector('#df-ed50a63a-2808-4478-92a6-85bc502ddbc2');\n",
              "          const dataTable =\n",
              "            await google.colab.kernel.invokeFunction('convertToInteractive',\n",
              "                                                     [key], {});\n",
              "          if (!dataTable) return;\n",
              "\n",
              "          const docLinkHtml = 'Like what you see? Visit the ' +\n",
              "            '<a target=\"_blank\" href=https://colab.research.google.com/notebooks/data_table.ipynb>data table notebook</a>'\n",
              "            + ' to learn more about interactive tables.';\n",
              "          element.innerHTML = '';\n",
              "          dataTable['output_type'] = 'display_data';\n",
              "          await google.colab.output.renderOutput(dataTable, element);\n",
              "          const docLink = document.createElement('div');\n",
              "          docLink.innerHTML = docLinkHtml;\n",
              "          element.appendChild(docLink);\n",
              "        }\n",
              "      </script>\n",
              "    </div>\n",
              "  </div>\n",
              "  "
            ]
          },
          "metadata": {},
          "execution_count": 20
        }
      ]
    },
    {
      "cell_type": "code",
      "source": [
        "train_dataset = tf.data.Dataset.from_tensor_slices((df_train['img_id'],df_train['question'],df_train['answer']))"
      ],
      "metadata": {
        "id": "u9pbUg7JT9bz"
      },
      "execution_count": null,
      "outputs": []
    },
    {
      "cell_type": "code",
      "source": [
        "len(df_train)"
      ],
      "metadata": {
        "colab": {
          "base_uri": "https://localhost:8080/"
        },
        "id": "bLjtERV0dpML",
        "outputId": "f8b24d7c-00d7-4caf-b49d-0587cc4c46b8"
      },
      "execution_count": null,
      "outputs": [
        {
          "output_type": "execute_result",
          "data": {
            "text/plain": [
              "150"
            ]
          },
          "metadata": {},
          "execution_count": 28
        }
      ]
    },
    {
      "cell_type": "code",
      "source": [
        "batch_size = 128\n",
        "train_dataset = train_dataset.map(encode_single_sample,num_parallel_calls=tf.data.AUTOTUNE).padded_batch(batch_size).prefetch(buffer_size=tf.data.AUTOTUNE)"
      ],
      "metadata": {
        "id": "VpU_di1Unn6o"
      },
      "execution_count": null,
      "outputs": []
    },
    {
      "cell_type": "code",
      "source": [
        "def build_model(img_size,vocab_size,num_answers):\n",
        "  img_input = keras.Input(shape=img_size+(3,),name='input_image')\n",
        "  img = keras.layers.Flatten()(img_input)\n",
        "  img = keras.layers.Dense(64,activation='relu')(img)\n",
        "\n",
        "  q_input= keras.Input(shape=(None,),name='input_question')\n",
        "  q = keras.layers.Embedding(input_dim=vocab_size,output_dim=20)(q_input)\n",
        "  q = keras.layers.SimpleRNN(64)(q)\n",
        "  \n",
        "  mrg = keras.layers.Multiply()([img,q])\n",
        "\n",
        "  output = keras.layers.Dense(num_answers, activation='softmax',name='output')(mrg)\n",
        "  vqa_model = keras.Model(inputs=[img_input,q_input],outputs=output)\n",
        "  vqa_model.compile(keras.optimizers.Adam(lr=0.001),loss=keras.losses.SparseCategoricalCrossentropy(),\n",
        "                    metrics=['accuracy'])\n",
        "  return vqa_model\n"
      ],
      "metadata": {
        "id": "fmVoh8-EoeQg"
      },
      "execution_count": null,
      "outputs": []
    },
    {
      "cell_type": "code",
      "source": [
        "model = build_model(image_size, vocab_size,2)\n",
        "model.summary()"
      ],
      "metadata": {
        "colab": {
          "base_uri": "https://localhost:8080/"
        },
        "id": "LFY45qZJsEn3",
        "outputId": "06c8bff5-81b9-4c11-b3c3-e7c4f327de03"
      },
      "execution_count": null,
      "outputs": [
        {
          "output_type": "stream",
          "name": "stdout",
          "text": [
            "Model: \"model\"\n",
            "__________________________________________________________________________________________________\n",
            " Layer (type)                   Output Shape         Param #     Connected to                     \n",
            "==================================================================================================\n",
            " input_image (InputLayer)       [(None, 32, 32, 3)]  0           []                               \n",
            "                                                                                                  \n",
            " input_question (InputLayer)    [(None, None)]       0           []                               \n",
            "                                                                                                  \n",
            " flatten (Flatten)              (None, 3072)         0           ['input_image[0][0]']            \n",
            "                                                                                                  \n",
            " embedding (Embedding)          (None, None, 20)     4200        ['input_question[0][0]']         \n",
            "                                                                                                  \n",
            " dense (Dense)                  (None, 64)           196672      ['flatten[0][0]']                \n",
            "                                                                                                  \n",
            " simple_rnn (SimpleRNN)         (None, 64)           5440        ['embedding[0][0]']              \n",
            "                                                                                                  \n",
            " multiply (Multiply)            (None, 64)           0           ['dense[0][0]',                  \n",
            "                                                                  'simple_rnn[0][0]']             \n",
            "                                                                                                  \n",
            " output (Dense)                 (None, 2)            130         ['multiply[0][0]']               \n",
            "                                                                                                  \n",
            "==================================================================================================\n",
            "Total params: 206,442\n",
            "Trainable params: 206,442\n",
            "Non-trainable params: 0\n",
            "__________________________________________________________________________________________________\n"
          ]
        },
        {
          "output_type": "stream",
          "name": "stderr",
          "text": [
            "/usr/local/lib/python3.7/dist-packages/keras/optimizer_v2/adam.py:105: UserWarning: The `lr` argument is deprecated, use `learning_rate` instead.\n",
            "  super(Adam, self).__init__(name, **kwargs)\n"
          ]
        }
      ]
    },
    {
      "cell_type": "code",
      "source": [
        "model.fit(train_dataset,epochs=13)"
      ],
      "metadata": {
        "colab": {
          "base_uri": "https://localhost:8080/"
        },
        "id": "zXXHd-gAsX4z",
        "outputId": "10fcb98e-b821-4c51-f6d9-71f2fdd15f2a"
      },
      "execution_count": null,
      "outputs": [
        {
          "output_type": "stream",
          "name": "stdout",
          "text": [
            "Epoch 1/13\n",
            "2/2 [==============================] - 6s 252ms/step - loss: 0.6991 - accuracy: 0.4267\n",
            "Epoch 2/13\n",
            "2/2 [==============================] - 5s 711ms/step - loss: 0.6357 - accuracy: 0.7533\n",
            "Epoch 3/13\n",
            "2/2 [==============================] - 5s 485ms/step - loss: 0.5533 - accuracy: 0.7867\n",
            "Epoch 4/13\n",
            "2/2 [==============================] - 4s 436ms/step - loss: 0.4425 - accuracy: 0.8200\n",
            "Epoch 5/13\n",
            "2/2 [==============================] - 4s 470ms/step - loss: 0.4069 - accuracy: 0.8400\n",
            "Epoch 6/13\n",
            "2/2 [==============================] - 2s 239ms/step - loss: 0.3361 - accuracy: 0.8800\n",
            "Epoch 7/13\n",
            "2/2 [==============================] - 2s 251ms/step - loss: 0.2878 - accuracy: 0.8733\n",
            "Epoch 8/13\n",
            "2/2 [==============================] - 2s 236ms/step - loss: 0.2350 - accuracy: 0.9200\n",
            "Epoch 9/13\n",
            "2/2 [==============================] - 2s 249ms/step - loss: 0.1963 - accuracy: 0.9533\n",
            "Epoch 10/13\n",
            "2/2 [==============================] - 2s 240ms/step - loss: 0.1552 - accuracy: 0.9733\n",
            "Epoch 11/13\n",
            "2/2 [==============================] - 2s 246ms/step - loss: 0.1106 - accuracy: 0.9733\n",
            "Epoch 12/13\n",
            "2/2 [==============================] - 2s 248ms/step - loss: 0.0705 - accuracy: 0.9867\n",
            "Epoch 13/13\n",
            "2/2 [==============================] - 2s 243ms/step - loss: 0.0443 - accuracy: 0.9867\n"
          ]
        },
        {
          "output_type": "execute_result",
          "data": {
            "text/plain": [
              "<keras.callbacks.History at 0x7fc21ce2d650>"
            ]
          },
          "metadata": {},
          "execution_count": 25
        }
      ]
    },
    {
      "cell_type": "markdown",
      "source": [
        ""
      ],
      "metadata": {
        "id": "OB1mHEnwtR3g"
      }
    },
    {
      "cell_type": "code",
      "source": [
        "with h5py.File('model.h5', mode='w') as f:\n",
        "    hdf5_format.save_model_to_hdf5(model, f)\n",
        "    f.attrs['answers'] = answers\n",
        "    f.attrs['image_size'] = image_size\n",
        "    # The vocabulary is stored in two parts.\n",
        "    f.attrs['vocab1'] = vocab[0:2048]\n",
        "    f.attrs['vocab2'] = vocab[2048:]"
      ],
      "metadata": {
        "id": "MB5l-3l9xAbi"
      },
      "execution_count": null,
      "outputs": []
    },
    {
      "cell_type": "code",
      "source": [
        ""
      ],
      "metadata": {
        "id": "rHw81_hp2IOD"
      },
      "execution_count": null,
      "outputs": []
    }
  ]
}