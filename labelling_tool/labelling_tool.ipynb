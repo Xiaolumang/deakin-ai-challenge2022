{
 "cells": [
  {
   "cell_type": "code",
   "execution_count": null,
   "metadata": {},
   "outputs": [],
   "source": [
    "from os import listdir\n",
    "import random\n",
    "import matplotlib.pyplot as plt\n",
    "from os.path import isfile, join\n",
    "from tensorflow import keras\n",
    "import os\n",
    "import json\n",
    "from sklearn.utils import shuffle\n",
    "import matplotlib.image as mpimg\n",
    "from IPython.display import clear_output\n"
   ]
  },
  {
   "cell_type": "code",
   "execution_count": null,
   "metadata": {},
   "outputs": [],
   "source": [
    "# Traning Questions\n",
    "data_url = \"http://206.12.93.90:8080/simpson2022_dataset/OpenEnded_abstract_v002_train2015_questions.zip\"\n",
    "zip_path = keras.utils.get_file(\"OpenEnded_abstract_v002_train2015_questions.zip\", data_url,\n",
    "                                cache_subdir='datasets/OpenEnded_abstract_v002_train2015_questions/', extract=True)\n",
    "q_train_file = os.path.dirname(zip_path) + '/OpenEnded_abstract_v002_train2015_questions.json'\n",
    "\n",
    "# Traning Annotations\n",
    "data_url = \"http://206.12.93.90:8080/simpson2022_dataset/abstract_v002_train2015_annotations.zip\"\n",
    "zip_path = keras.utils.get_file(\"abstract_v002_train2015_annotations.zip\", data_url,\n",
    "                                cache_subdir='datasets/abstract_v002_train2015_annotations/', extract=True)\n",
    "anno_train_file = os.path.dirname(zip_path) + '/abstract_v002_train2015_annotations.json'\n",
    "\n",
    "\n",
    "\n",
    "q_train = json.load(open(q_train_file))\n",
    "anno_train = json.load(open(anno_train_file))\n",
    "\n",
    "q_train['questions'] = sorted(q_train['questions'], key=lambda x: x['question_id'])\n",
    "anno_train['annotations'] = sorted(anno_train['annotations'], key=lambda x: x['question_id'])\n",
    "\n",
    "answers = ['yes', 'no']\n"
   ]
  },
  {
   "cell_type": "code",
   "execution_count": null,
   "metadata": {},
   "outputs": [],
   "source": [
    "questions = {}\n",
    "ids_to_answers = {}\n",
    "\n",
    "for annotation in anno_train['annotations']:\n",
    "    if annotation['multiple_choice_answer'] in answers:\n",
    "        ids_to_answers[annotation['question_id']] = annotation['multiple_choice_answer']\n",
    "        if annotation['multiple_choice_answer'] in questions:\n",
    "            questions[annotation['multiple_choice_answer']][annotation['question_id']] = ''\n",
    "        else:\n",
    "            questions[annotation['multiple_choice_answer']] = {annotation['question_id'] : ''}\n",
    "\n",
    "for q in q_train['questions']:\n",
    "    if q['question_id'] in ids_to_answers.keys():\n",
    "        # Preprocessing the question\n",
    "        q_text = q['question']\n",
    "        questions[ids_to_answers[q['question_id']]][q['question_id']] = q_text\n"
   ]
  },
  {
   "cell_type": "code",
   "execution_count": null,
   "metadata": {},
   "outputs": [],
   "source": [
    "images = ['imgs/' + f for f in listdir('imgs') if isfile(join('imgs', f))]\n",
    "def get_total_questions():\n",
    "    total_questions = {}\n",
    "    for answer in answers:\n",
    "        total_questions[answer] = 50\n",
    "    file = open('data.txt', 'r+')\n",
    "    while True:\n",
    "        # Get next line from file\n",
    "        line = file.readline()\n",
    "        # if line is empty\n",
    "        # end of file is reached\n",
    "        if not line:\n",
    "            break\n",
    "        line = json.loads(line)\n",
    "        if line['answer'] in total_questions.keys():\n",
    "            total_questions[line['answer']] = total_questions[line['answer']] - 1\n",
    "    file.close()\n",
    "    return total_questions\n"
   ]
  },
  {
   "cell_type": "code",
   "execution_count": null,
   "metadata": {},
   "outputs": [],
   "source": [
    "total_questions = get_total_questions()\n",
    "try:\n",
    "    for answer in total_questions.keys():\n",
    "        while total_questions[answer] != 0:\n",
    "            clear_output(wait=True)\n",
    "            idx = random.randint(0, len(images))\n",
    "            fig = plt.figure(figsize=(10,5))\n",
    "            plt.imshow(mpimg.imread(images[idx]))\n",
    "            fig.suptitle('Answer: ' + answer.upper(), fontsize=24, color='r')\n",
    "            plt.axis('off')\n",
    "            plt.show()\n",
    "            print('Examples of questions: ')\n",
    "            print(shuffle(list(questions[answer].values()))[:10])\n",
    "            q = input(str(total_questions[answer]) + \"- Please ask a question for which the answer is \\\"\" +answer.upper() + \"\\\"?:\\n\")\n",
    "            if q.strip() != '':\n",
    "                file = open('data.txt', 'a')\n",
    "                file.write(\"{\\\"answer\\\":\\\"\" + answer + \"\\\",\\\"question\\\":\\\"\" + q + \"\\\",\\\"image_id\\\":\\\"\" + str(images[idx]) + \"\\\"}\" + '\\n' )\n",
    "                file.flush()\n",
    "                file.close()            \n",
    "            total_questions = get_total_questions()\n",
    "except KeyboardInterrupt:\n",
    "    print ('KeyboardInterrupt exception is caught')\n",
    "            \n",
    "    "
   ]
  },
  {
   "cell_type": "code",
   "execution_count": null,
   "metadata": {},
   "outputs": [],
   "source": []
  }
 ],
 "metadata": {
  "kernelspec": {
   "display_name": "Python 3.8",
   "language": "python",
   "name": "python3.8"
  },
  "language_info": {
   "codemirror_mode": {
    "name": "ipython",
    "version": 3
   },
   "file_extension": ".py",
   "mimetype": "text/x-python",
   "name": "python",
   "nbconvert_exporter": "python",
   "pygments_lexer": "ipython3",
   "version": "3.8.12"
  },
  "latex_envs": {
   "LaTeX_envs_menu_present": true,
   "autoclose": false,
   "autocomplete": true,
   "bibliofile": "biblio.bib",
   "cite_by": "apalike",
   "current_citInitial": 1,
   "eqLabelWithNumbers": true,
   "eqNumInitial": 1,
   "hotkeys": {
    "equation": "Ctrl-E",
    "itemize": "Ctrl-I"
   },
   "labels_anchors": false,
   "latex_user_defs": false,
   "report_style_numbering": false,
   "user_envs_cfg": false
  },
  "toc": {
   "base_numbering": 1,
   "nav_menu": {},
   "number_sections": true,
   "sideBar": true,
   "skip_h1_title": false,
   "title_cell": "Table of Contents",
   "title_sidebar": "Contents",
   "toc_cell": false,
   "toc_position": {},
   "toc_section_display": true,
   "toc_window_display": false
  }
 },
 "nbformat": 4,
 "nbformat_minor": 4
}
